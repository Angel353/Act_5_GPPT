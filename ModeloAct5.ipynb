{
 "cells": [
  {
   "cell_type": "code",
   "execution_count": 363,
   "metadata": {},
   "outputs": [],
   "source": [
    "# Cargamos librerias\n",
    "\n",
    "import pandas as pd\n",
    "import numpy as np\n",
    "import matplotlib.pyplot as plt\n",
    "import scipy.special as special\n",
    "from scipy.optimize import curve_fit\n",
    "import seaborn as sns\n",
    "from sklearn.metrics import r2_score\n",
    "from sklearn.model_selection import train_test_split\n",
    "from sklearn.preprocessing import StandardScaler"
   ]
  },
  {
   "cell_type": "code",
   "execution_count": 364,
   "metadata": {},
   "outputs": [
    {
     "data": {
      "text/html": [
       "<div>\n",
       "<style scoped>\n",
       "    .dataframe tbody tr th:only-of-type {\n",
       "        vertical-align: middle;\n",
       "    }\n",
       "\n",
       "    .dataframe tbody tr th {\n",
       "        vertical-align: top;\n",
       "    }\n",
       "\n",
       "    .dataframe thead th {\n",
       "        text-align: right;\n",
       "    }\n",
       "</style>\n",
       "<table border=\"1\" class=\"dataframe\">\n",
       "  <thead>\n",
       "    <tr style=\"text-align: right;\">\n",
       "      <th></th>\n",
       "      <th>folio</th>\n",
       "      <th>folio_solicitud</th>\n",
       "      <th>precio</th>\n",
       "      <th>enganche</th>\n",
       "      <th>descuento</th>\n",
       "      <th>monto_accesorios</th>\n",
       "      <th>status</th>\n",
       "      <th>fraude</th>\n",
       "      <th>inversion</th>\n",
       "      <th>pagos_realizados</th>\n",
       "      <th>...</th>\n",
       "      <th>fecha_pago_proximo</th>\n",
       "      <th>status_cuenta</th>\n",
       "      <th>razones_buro</th>\n",
       "      <th>cp_cliente</th>\n",
       "      <th>cd_cliente</th>\n",
       "      <th>edo_cliente</th>\n",
       "      <th>cd_venta</th>\n",
       "      <th>edo_venta</th>\n",
       "      <th>curp</th>\n",
       "      <th>riesgo_cat</th>\n",
       "    </tr>\n",
       "  </thead>\n",
       "  <tbody>\n",
       "    <tr>\n",
       "      <th>0</th>\n",
       "      <td>3</td>\n",
       "      <td>30</td>\n",
       "      <td>1949.0</td>\n",
       "      <td>780.0</td>\n",
       "      <td>0.0</td>\n",
       "      <td>0.0</td>\n",
       "      <td>2</td>\n",
       "      <td>0</td>\n",
       "      <td>0</td>\n",
       "      <td>0</td>\n",
       "      <td>...</td>\n",
       "      <td>Desconocido</td>\n",
       "      <td>Aun no se determina status</td>\n",
       "      <td>Desconocido</td>\n",
       "      <td>Desconocido</td>\n",
       "      <td>0</td>\n",
       "      <td>0</td>\n",
       "      <td>Tantoyuca</td>\n",
       "      <td>Veracruz</td>\n",
       "      <td>AEVM980413MVZNDR02</td>\n",
       "      <td>No hay Riesgo</td>\n",
       "    </tr>\n",
       "    <tr>\n",
       "      <th>1</th>\n",
       "      <td>4</td>\n",
       "      <td>33</td>\n",
       "      <td>2999.0</td>\n",
       "      <td>1050.0</td>\n",
       "      <td>0.0</td>\n",
       "      <td>0.0</td>\n",
       "      <td>2</td>\n",
       "      <td>0</td>\n",
       "      <td>0</td>\n",
       "      <td>0</td>\n",
       "      <td>...</td>\n",
       "      <td>Desconocido</td>\n",
       "      <td>Aun no se determina status</td>\n",
       "      <td>Desconocido</td>\n",
       "      <td>Desconocido</td>\n",
       "      <td>PUEBLA</td>\n",
       "      <td>PUE.</td>\n",
       "      <td>Heroica Puebla de Zaragoza</td>\n",
       "      <td>Puebla</td>\n",
       "      <td>ZALC610119MPLPRR07</td>\n",
       "      <td>No hay Riesgo</td>\n",
       "    </tr>\n",
       "    <tr>\n",
       "      <th>2</th>\n",
       "      <td>5</td>\n",
       "      <td>37</td>\n",
       "      <td>1959.0</td>\n",
       "      <td>490.0</td>\n",
       "      <td>0.0</td>\n",
       "      <td>0.0</td>\n",
       "      <td>3</td>\n",
       "      <td>0</td>\n",
       "      <td>0</td>\n",
       "      <td>0</td>\n",
       "      <td>...</td>\n",
       "      <td>Desconocido</td>\n",
       "      <td>Cancelado</td>\n",
       "      <td>Desconocido</td>\n",
       "      <td>Desconocido</td>\n",
       "      <td>TANTOYUCA</td>\n",
       "      <td>VER.</td>\n",
       "      <td>0</td>\n",
       "      <td>0</td>\n",
       "      <td>0</td>\n",
       "      <td>No hay Riesgo</td>\n",
       "    </tr>\n",
       "    <tr>\n",
       "      <th>3</th>\n",
       "      <td>6</td>\n",
       "      <td>38</td>\n",
       "      <td>1959.0</td>\n",
       "      <td>490.0</td>\n",
       "      <td>0.0</td>\n",
       "      <td>0.0</td>\n",
       "      <td>2</td>\n",
       "      <td>0</td>\n",
       "      <td>0</td>\n",
       "      <td>0</td>\n",
       "      <td>...</td>\n",
       "      <td>Desconocido</td>\n",
       "      <td>Aun no se determina status</td>\n",
       "      <td>Desconocido</td>\n",
       "      <td>Desconocido</td>\n",
       "      <td>AMXTLAN PUE</td>\n",
       "      <td>Desconocido</td>\n",
       "      <td>Zacatlan</td>\n",
       "      <td>Puebla</td>\n",
       "      <td>SAMJ790115MPLNRS02</td>\n",
       "      <td>No hay Riesgo</td>\n",
       "    </tr>\n",
       "    <tr>\n",
       "      <th>4</th>\n",
       "      <td>7</td>\n",
       "      <td>44</td>\n",
       "      <td>4299.0</td>\n",
       "      <td>1075.0</td>\n",
       "      <td>0.0</td>\n",
       "      <td>0.0</td>\n",
       "      <td>1</td>\n",
       "      <td>0</td>\n",
       "      <td>0</td>\n",
       "      <td>0</td>\n",
       "      <td>...</td>\n",
       "      <td>2022-03-12 00:00:00</td>\n",
       "      <td>Mora</td>\n",
       "      <td>Desconocido</td>\n",
       "      <td>Desconocido</td>\n",
       "      <td>TANTOYUCA</td>\n",
       "      <td>VER.</td>\n",
       "      <td>Tantoyuca</td>\n",
       "      <td>Veracruz</td>\n",
       "      <td>TEHF880707HVZRRR07</td>\n",
       "      <td>No hay Riesgo</td>\n",
       "    </tr>\n",
       "  </tbody>\n",
       "</table>\n",
       "<p>5 rows × 40 columns</p>\n",
       "</div>"
      ],
      "text/plain": [
       "   folio  folio_solicitud  precio  enganche  descuento  monto_accesorios  \\\n",
       "0      3               30  1949.0     780.0        0.0               0.0   \n",
       "1      4               33  2999.0    1050.0        0.0               0.0   \n",
       "2      5               37  1959.0     490.0        0.0               0.0   \n",
       "3      6               38  1959.0     490.0        0.0               0.0   \n",
       "4      7               44  4299.0    1075.0        0.0               0.0   \n",
       "\n",
       "   status  fraude  inversion  pagos_realizados  ...   fecha_pago_proximo  \\\n",
       "0       2       0          0                 0  ...          Desconocido   \n",
       "1       2       0          0                 0  ...          Desconocido   \n",
       "2       3       0          0                 0  ...          Desconocido   \n",
       "3       2       0          0                 0  ...          Desconocido   \n",
       "4       1       0          0                 0  ...  2022-03-12 00:00:00   \n",
       "\n",
       "                status_cuenta  razones_buro   cp_cliente   cd_cliente  \\\n",
       "0  Aun no se determina status   Desconocido  Desconocido            0   \n",
       "1  Aun no se determina status   Desconocido  Desconocido      PUEBLA    \n",
       "2                   Cancelado   Desconocido  Desconocido    TANTOYUCA   \n",
       "3  Aun no se determina status   Desconocido  Desconocido  AMXTLAN PUE   \n",
       "4                        Mora   Desconocido  Desconocido   TANTOYUCA    \n",
       "\n",
       "   edo_cliente                    cd_venta  edo_venta                curp  \\\n",
       "0            0                   Tantoyuca   Veracruz  AEVM980413MVZNDR02   \n",
       "1         PUE.  Heroica Puebla de Zaragoza     Puebla  ZALC610119MPLPRR07   \n",
       "2         VER.                           0          0                   0   \n",
       "3  Desconocido                    Zacatlan     Puebla  SAMJ790115MPLNRS02   \n",
       "4         VER.                   Tantoyuca   Veracruz  TEHF880707HVZRRR07   \n",
       "\n",
       "      riesgo_cat  \n",
       "0  No hay Riesgo  \n",
       "1  No hay Riesgo  \n",
       "2  No hay Riesgo  \n",
       "3  No hay Riesgo  \n",
       "4  No hay Riesgo  \n",
       "\n",
       "[5 rows x 40 columns]"
      ]
     },
     "execution_count": 364,
     "metadata": {},
     "output_type": "execute_result"
    }
   ],
   "source": [
    "#Carga desde un archivo .xlsx sin indice\n",
    "Credicel = pd.read_excel('CredicelModel.xlsx')\n",
    "Credicel.head(5)"
   ]
  },
  {
   "cell_type": "code",
   "execution_count": 148,
   "metadata": {},
   "outputs": [
    {
     "data": {
      "text/html": [
       "<div>\n",
       "<style scoped>\n",
       "    .dataframe tbody tr th:only-of-type {\n",
       "        vertical-align: middle;\n",
       "    }\n",
       "\n",
       "    .dataframe tbody tr th {\n",
       "        vertical-align: top;\n",
       "    }\n",
       "\n",
       "    .dataframe thead th {\n",
       "        text-align: right;\n",
       "    }\n",
       "</style>\n",
       "<table border=\"1\" class=\"dataframe\">\n",
       "  <thead>\n",
       "    <tr style=\"text-align: right;\">\n",
       "      <th></th>\n",
       "      <th>folio</th>\n",
       "      <th>folio_solicitud</th>\n",
       "      <th>precio</th>\n",
       "      <th>enganche</th>\n",
       "      <th>descuento</th>\n",
       "      <th>monto_accesorios</th>\n",
       "      <th>status</th>\n",
       "      <th>fraude</th>\n",
       "      <th>inversion</th>\n",
       "      <th>pagos_realizados</th>\n",
       "      <th>...</th>\n",
       "      <th>fecha_pago_proximo</th>\n",
       "      <th>status_cuenta</th>\n",
       "      <th>razones_buro</th>\n",
       "      <th>cp_cliente</th>\n",
       "      <th>cd_cliente</th>\n",
       "      <th>edo_cliente</th>\n",
       "      <th>cd_venta</th>\n",
       "      <th>edo_venta</th>\n",
       "      <th>curp</th>\n",
       "      <th>riesgo_cat</th>\n",
       "    </tr>\n",
       "  </thead>\n",
       "  <tbody>\n",
       "    <tr>\n",
       "      <th>0</th>\n",
       "      <td>3</td>\n",
       "      <td>30</td>\n",
       "      <td>1949.0</td>\n",
       "      <td>780.0</td>\n",
       "      <td>0.0</td>\n",
       "      <td>0.0</td>\n",
       "      <td>2</td>\n",
       "      <td>0</td>\n",
       "      <td>0</td>\n",
       "      <td>0</td>\n",
       "      <td>...</td>\n",
       "      <td>Desconocido</td>\n",
       "      <td>Aun no se determina status</td>\n",
       "      <td>Desconocido</td>\n",
       "      <td>Desconocido</td>\n",
       "      <td>0</td>\n",
       "      <td>0</td>\n",
       "      <td>Tantoyuca</td>\n",
       "      <td>Veracruz</td>\n",
       "      <td>AEVM980413MVZNDR02</td>\n",
       "      <td>No hay Riesgo</td>\n",
       "    </tr>\n",
       "    <tr>\n",
       "      <th>1</th>\n",
       "      <td>4</td>\n",
       "      <td>33</td>\n",
       "      <td>2999.0</td>\n",
       "      <td>1050.0</td>\n",
       "      <td>0.0</td>\n",
       "      <td>0.0</td>\n",
       "      <td>2</td>\n",
       "      <td>0</td>\n",
       "      <td>0</td>\n",
       "      <td>0</td>\n",
       "      <td>...</td>\n",
       "      <td>Desconocido</td>\n",
       "      <td>Aun no se determina status</td>\n",
       "      <td>Desconocido</td>\n",
       "      <td>Desconocido</td>\n",
       "      <td>PUEBLA</td>\n",
       "      <td>PUE.</td>\n",
       "      <td>Heroica Puebla de Zaragoza</td>\n",
       "      <td>Puebla</td>\n",
       "      <td>ZALC610119MPLPRR07</td>\n",
       "      <td>No hay Riesgo</td>\n",
       "    </tr>\n",
       "    <tr>\n",
       "      <th>2</th>\n",
       "      <td>5</td>\n",
       "      <td>37</td>\n",
       "      <td>1959.0</td>\n",
       "      <td>490.0</td>\n",
       "      <td>0.0</td>\n",
       "      <td>0.0</td>\n",
       "      <td>3</td>\n",
       "      <td>0</td>\n",
       "      <td>0</td>\n",
       "      <td>0</td>\n",
       "      <td>...</td>\n",
       "      <td>Desconocido</td>\n",
       "      <td>Cancelado</td>\n",
       "      <td>Desconocido</td>\n",
       "      <td>Desconocido</td>\n",
       "      <td>TANTOYUCA</td>\n",
       "      <td>VER.</td>\n",
       "      <td>0</td>\n",
       "      <td>0</td>\n",
       "      <td>0</td>\n",
       "      <td>No hay Riesgo</td>\n",
       "    </tr>\n",
       "    <tr>\n",
       "      <th>3</th>\n",
       "      <td>6</td>\n",
       "      <td>38</td>\n",
       "      <td>1959.0</td>\n",
       "      <td>490.0</td>\n",
       "      <td>0.0</td>\n",
       "      <td>0.0</td>\n",
       "      <td>2</td>\n",
       "      <td>0</td>\n",
       "      <td>0</td>\n",
       "      <td>0</td>\n",
       "      <td>...</td>\n",
       "      <td>Desconocido</td>\n",
       "      <td>Aun no se determina status</td>\n",
       "      <td>Desconocido</td>\n",
       "      <td>Desconocido</td>\n",
       "      <td>AMXTLAN PUE</td>\n",
       "      <td>Desconocido</td>\n",
       "      <td>Zacatlan</td>\n",
       "      <td>Puebla</td>\n",
       "      <td>SAMJ790115MPLNRS02</td>\n",
       "      <td>No hay Riesgo</td>\n",
       "    </tr>\n",
       "    <tr>\n",
       "      <th>4</th>\n",
       "      <td>7</td>\n",
       "      <td>44</td>\n",
       "      <td>4299.0</td>\n",
       "      <td>1075.0</td>\n",
       "      <td>0.0</td>\n",
       "      <td>0.0</td>\n",
       "      <td>1</td>\n",
       "      <td>0</td>\n",
       "      <td>0</td>\n",
       "      <td>0</td>\n",
       "      <td>...</td>\n",
       "      <td>2022-03-12 00:00:00</td>\n",
       "      <td>Mora</td>\n",
       "      <td>Desconocido</td>\n",
       "      <td>Desconocido</td>\n",
       "      <td>TANTOYUCA</td>\n",
       "      <td>VER.</td>\n",
       "      <td>Tantoyuca</td>\n",
       "      <td>Veracruz</td>\n",
       "      <td>TEHF880707HVZRRR07</td>\n",
       "      <td>No hay Riesgo</td>\n",
       "    </tr>\n",
       "  </tbody>\n",
       "</table>\n",
       "<p>5 rows × 40 columns</p>\n",
       "</div>"
      ],
      "text/plain": [
       "   folio  folio_solicitud  precio  enganche  descuento  monto_accesorios  \\\n",
       "0      3               30  1949.0     780.0        0.0               0.0   \n",
       "1      4               33  2999.0    1050.0        0.0               0.0   \n",
       "2      5               37  1959.0     490.0        0.0               0.0   \n",
       "3      6               38  1959.0     490.0        0.0               0.0   \n",
       "4      7               44  4299.0    1075.0        0.0               0.0   \n",
       "\n",
       "   status  fraude  inversion  pagos_realizados  ...   fecha_pago_proximo  \\\n",
       "0       2       0          0                 0  ...          Desconocido   \n",
       "1       2       0          0                 0  ...          Desconocido   \n",
       "2       3       0          0                 0  ...          Desconocido   \n",
       "3       2       0          0                 0  ...          Desconocido   \n",
       "4       1       0          0                 0  ...  2022-03-12 00:00:00   \n",
       "\n",
       "                status_cuenta  razones_buro   cp_cliente   cd_cliente  \\\n",
       "0  Aun no se determina status   Desconocido  Desconocido            0   \n",
       "1  Aun no se determina status   Desconocido  Desconocido      PUEBLA    \n",
       "2                   Cancelado   Desconocido  Desconocido    TANTOYUCA   \n",
       "3  Aun no se determina status   Desconocido  Desconocido  AMXTLAN PUE   \n",
       "4                        Mora   Desconocido  Desconocido   TANTOYUCA    \n",
       "\n",
       "   edo_cliente                    cd_venta  edo_venta                curp  \\\n",
       "0            0                   Tantoyuca   Veracruz  AEVM980413MVZNDR02   \n",
       "1         PUE.  Heroica Puebla de Zaragoza     Puebla  ZALC610119MPLPRR07   \n",
       "2         VER.                           0          0                   0   \n",
       "3  Desconocido                    Zacatlan     Puebla  SAMJ790115MPLNRS02   \n",
       "4         VER.                   Tantoyuca   Veracruz  TEHF880707HVZRRR07   \n",
       "\n",
       "      riesgo_cat  \n",
       "0  No hay Riesgo  \n",
       "1  No hay Riesgo  \n",
       "2  No hay Riesgo  \n",
       "3  No hay Riesgo  \n",
       "4  No hay Riesgo  \n",
       "\n",
       "[5 rows x 40 columns]"
      ]
     },
     "execution_count": 148,
     "metadata": {},
     "output_type": "execute_result"
    }
   ],
   "source": [
    "#Carga desde un archivo .xlsx sin indice\n",
    "Credicel2 = pd.read_excel('CredicelModel2.xlsx')\n",
    "Credicel2.head(5)"
   ]
  },
  {
   "cell_type": "code",
   "execution_count": 150,
   "metadata": {},
   "outputs": [
    {
     "data": {
      "text/plain": [
       "folio                 0\n",
       "folio_solicitud       0\n",
       "precio                0\n",
       "enganche              0\n",
       "descuento             0\n",
       "monto_accesorios      0\n",
       "status                0\n",
       "fraude                0\n",
       "inversion             0\n",
       "pagos_realizados      0\n",
       "reautorizacion        0\n",
       "puntos                0\n",
       "riesgo                0\n",
       "score_buro            0\n",
       "porc_eng              0\n",
       "limite_credito        0\n",
       "semana_actual         0\n",
       "edad_cliente          0\n",
       "costo_total           0\n",
       "monto_financiado      0\n",
       "semana                0\n",
       "tag                   0\n",
       "fecha                 0\n",
       "marca                 0\n",
       "modelo                0\n",
       "plazo                 0\n",
       "agente_venta          0\n",
       "dis_venta             0\n",
       "empresa               0\n",
       "fecha_ultimo_pago     0\n",
       "fecha_pago_proximo    0\n",
       "status_cuenta         0\n",
       "razones_buro          0\n",
       "cp_cliente            0\n",
       "cd_cliente            0\n",
       "edo_cliente           0\n",
       "cd_venta              0\n",
       "edo_venta             0\n",
       "curp                  0\n",
       "riesgo_cat            0\n",
       "dtype: int64"
      ]
     },
     "execution_count": 150,
     "metadata": {},
     "output_type": "execute_result"
    }
   ],
   "source": [
    "#Corroboramos valores nulos\n",
    "ValoresNulos = Credicel2.isnull().sum()\n",
    "ValoresNulos"
   ]
  },
  {
   "cell_type": "markdown",
   "metadata": {},
   "source": [
    "**Modelo 1**"
   ]
  },
  {
   "cell_type": "code",
   "execution_count": 486,
   "metadata": {},
   "outputs": [],
   "source": [
    "# Declaramos las variables dependientes e independientes para la regresión logística\n",
    "\n",
    "Vars_Indep = Credicel2[['edad_cliente','score_buro','status','semana','monto_financiado','limite_credito','costo_total','porc_eng']]\n",
    "Var_Dep = Credicel2['riesgo_cat'] # Variable objetivo tipo Dicotómica"
   ]
  },
  {
   "cell_type": "code",
   "execution_count": 487,
   "metadata": {},
   "outputs": [],
   "source": [
    "# Redefinimos las variables\n",
    "X = Vars_Indep\n",
    "y = Var_Dep"
   ]
  },
  {
   "cell_type": "code",
   "execution_count": 488,
   "metadata": {},
   "outputs": [],
   "source": [
    "# Dividimos el conjunto de datos en la parte de entrenamiento y prueba:\n",
    "\n",
    "X_train, X_test, y_train, y_test = train_test_split(X,y, test_size = 0.40, random_state = None)"
   ]
  },
  {
   "cell_type": "code",
   "execution_count": 489,
   "metadata": {},
   "outputs": [],
   "source": [
    "# Se escalan todos los datos (Se están normalizando las escalas)\n",
    "\n",
    "escalar = StandardScaler()"
   ]
  },
  {
   "cell_type": "code",
   "execution_count": 490,
   "metadata": {},
   "outputs": [],
   "source": [
    "# Para realizar el escalamiento de las variables \"X\" tanto de entrenamiento como de prueba,\n",
    "X_train = escalar.fit_transform(X_train)\n",
    "X_test = escalar.transform(X_test)"
   ]
  },
  {
   "cell_type": "code",
   "execution_count": 491,
   "metadata": {},
   "outputs": [],
   "source": [
    "# Definimos el algoritmo a utilizar\n",
    "from sklearn.linear_model import LogisticRegression\n",
    "algoritmo = LogisticRegression()"
   ]
  },
  {
   "cell_type": "code",
   "execution_count": 492,
   "metadata": {},
   "outputs": [
    {
     "data": {
      "text/html": [
       "<style>#sk-container-id-38 {color: black;}#sk-container-id-38 pre{padding: 0;}#sk-container-id-38 div.sk-toggleable {background-color: white;}#sk-container-id-38 label.sk-toggleable__label {cursor: pointer;display: block;width: 100%;margin-bottom: 0;padding: 0.3em;box-sizing: border-box;text-align: center;}#sk-container-id-38 label.sk-toggleable__label-arrow:before {content: \"▸\";float: left;margin-right: 0.25em;color: #696969;}#sk-container-id-38 label.sk-toggleable__label-arrow:hover:before {color: black;}#sk-container-id-38 div.sk-estimator:hover label.sk-toggleable__label-arrow:before {color: black;}#sk-container-id-38 div.sk-toggleable__content {max-height: 0;max-width: 0;overflow: hidden;text-align: left;background-color: #f0f8ff;}#sk-container-id-38 div.sk-toggleable__content pre {margin: 0.2em;color: black;border-radius: 0.25em;background-color: #f0f8ff;}#sk-container-id-38 input.sk-toggleable__control:checked~div.sk-toggleable__content {max-height: 200px;max-width: 100%;overflow: auto;}#sk-container-id-38 input.sk-toggleable__control:checked~label.sk-toggleable__label-arrow:before {content: \"▾\";}#sk-container-id-38 div.sk-estimator input.sk-toggleable__control:checked~label.sk-toggleable__label {background-color: #d4ebff;}#sk-container-id-38 div.sk-label input.sk-toggleable__control:checked~label.sk-toggleable__label {background-color: #d4ebff;}#sk-container-id-38 input.sk-hidden--visually {border: 0;clip: rect(1px 1px 1px 1px);clip: rect(1px, 1px, 1px, 1px);height: 1px;margin: -1px;overflow: hidden;padding: 0;position: absolute;width: 1px;}#sk-container-id-38 div.sk-estimator {font-family: monospace;background-color: #f0f8ff;border: 1px dotted black;border-radius: 0.25em;box-sizing: border-box;margin-bottom: 0.5em;}#sk-container-id-38 div.sk-estimator:hover {background-color: #d4ebff;}#sk-container-id-38 div.sk-parallel-item::after {content: \"\";width: 100%;border-bottom: 1px solid gray;flex-grow: 1;}#sk-container-id-38 div.sk-label:hover label.sk-toggleable__label {background-color: #d4ebff;}#sk-container-id-38 div.sk-serial::before {content: \"\";position: absolute;border-left: 1px solid gray;box-sizing: border-box;top: 0;bottom: 0;left: 50%;z-index: 0;}#sk-container-id-38 div.sk-serial {display: flex;flex-direction: column;align-items: center;background-color: white;padding-right: 0.2em;padding-left: 0.2em;position: relative;}#sk-container-id-38 div.sk-item {position: relative;z-index: 1;}#sk-container-id-38 div.sk-parallel {display: flex;align-items: stretch;justify-content: center;background-color: white;position: relative;}#sk-container-id-38 div.sk-item::before, #sk-container-id-38 div.sk-parallel-item::before {content: \"\";position: absolute;border-left: 1px solid gray;box-sizing: border-box;top: 0;bottom: 0;left: 50%;z-index: -1;}#sk-container-id-38 div.sk-parallel-item {display: flex;flex-direction: column;z-index: 1;position: relative;background-color: white;}#sk-container-id-38 div.sk-parallel-item:first-child::after {align-self: flex-end;width: 50%;}#sk-container-id-38 div.sk-parallel-item:last-child::after {align-self: flex-start;width: 50%;}#sk-container-id-38 div.sk-parallel-item:only-child::after {width: 0;}#sk-container-id-38 div.sk-dashed-wrapped {border: 1px dashed gray;margin: 0 0.4em 0.5em 0.4em;box-sizing: border-box;padding-bottom: 0.4em;background-color: white;}#sk-container-id-38 div.sk-label label {font-family: monospace;font-weight: bold;display: inline-block;line-height: 1.2em;}#sk-container-id-38 div.sk-label-container {text-align: center;}#sk-container-id-38 div.sk-container {/* jupyter's `normalize.less` sets `[hidden] { display: none; }` but bootstrap.min.css set `[hidden] { display: none !important; }` so we also need the `!important` here to be able to override the default hidden behavior on the sphinx rendered scikit-learn.org. See: https://github.com/scikit-learn/scikit-learn/issues/21755 */display: inline-block !important;position: relative;}#sk-container-id-38 div.sk-text-repr-fallback {display: none;}</style><div id=\"sk-container-id-38\" class=\"sk-top-container\"><div class=\"sk-text-repr-fallback\"><pre>LogisticRegression()</pre><b>In a Jupyter environment, please rerun this cell to show the HTML representation or trust the notebook. <br />On GitHub, the HTML representation is unable to render, please try loading this page with nbviewer.org.</b></div><div class=\"sk-container\" hidden><div class=\"sk-item\"><div class=\"sk-estimator sk-toggleable\"><input class=\"sk-toggleable__control sk-hidden--visually\" id=\"sk-estimator-id-38\" type=\"checkbox\" checked><label for=\"sk-estimator-id-38\" class=\"sk-toggleable__label sk-toggleable__label-arrow\">LogisticRegression</label><div class=\"sk-toggleable__content\"><pre>LogisticRegression()</pre></div></div></div></div></div>"
      ],
      "text/plain": [
       "LogisticRegression()"
      ]
     },
     "execution_count": 492,
     "metadata": {},
     "output_type": "execute_result"
    }
   ],
   "source": [
    "algoritmo.fit(X_train, y_train)"
   ]
  },
  {
   "cell_type": "code",
   "execution_count": 493,
   "metadata": {},
   "outputs": [
    {
     "data": {
      "text/plain": [
       "array(['No hay Riesgo', 'No hay Riesgo', 'Hay Riesgo', ..., 'Hay Riesgo',\n",
       "       'No hay Riesgo', 'Hay Riesgo'], dtype=object)"
      ]
     },
     "execution_count": 493,
     "metadata": {},
     "output_type": "execute_result"
    }
   ],
   "source": [
    "# Realizamos una predicción\n",
    "\n",
    "y_pred = algoritmo.predict(X_test)\n",
    "y_pred"
   ]
  },
  {
   "cell_type": "code",
   "execution_count": 494,
   "metadata": {},
   "outputs": [
    {
     "name": "stdout",
     "output_type": "stream",
     "text": [
      "Matriz de confusión: \n",
      "[[4348  484]\n",
      " [ 418 3844]]\n"
     ]
    }
   ],
   "source": [
    "# Verifico la matriz de Confusión\n",
    "\n",
    "from sklearn.metrics import confusion_matrix\n",
    "matriz = confusion_matrix(y_test, y_pred)\n",
    "print('Matriz de confusión: ')\n",
    "print(matriz)"
   ]
  },
  {
   "cell_type": "code",
   "execution_count": 495,
   "metadata": {},
   "outputs": [
    {
     "name": "stdout",
     "output_type": "stream",
     "text": [
      "Precisión del modelo: \n",
      "0.8881700554528651\n"
     ]
    }
   ],
   "source": [
    "# Calculo la precisión del modelo\n",
    "\n",
    "from sklearn.metrics import precision_score\n",
    "\n",
    "precision = precision_score(y_test, y_pred, average = 'binary', pos_label = 'No hay Riesgo')\n",
    "print('Precisión del modelo: ')\n",
    "print(precision)"
   ]
  },
  {
   "cell_type": "code",
   "execution_count": 496,
   "metadata": {},
   "outputs": [
    {
     "name": "stdout",
     "output_type": "stream",
     "text": [
      "Precisión del modelo: \n",
      "0.9122954259336971\n"
     ]
    }
   ],
   "source": [
    "# Calculo la precisión del modelo\n",
    "\n",
    "from sklearn.metrics import precision_score\n",
    "\n",
    "precision = precision_score(y_test, y_pred, average = 'binary', pos_label = 'Hay Riesgo')\n",
    "print('Precisión del modelo: ')\n",
    "print(precision)"
   ]
  },
  {
   "cell_type": "code",
   "execution_count": 497,
   "metadata": {},
   "outputs": [
    {
     "name": "stdout",
     "output_type": "stream",
     "text": [
      "Exactitud del modelo: \n",
      "0.9008137233340664\n"
     ]
    }
   ],
   "source": [
    "# Calculo la exactitud del modelo\n",
    "\n",
    "from sklearn.metrics import accuracy_score\n",
    "\n",
    "exactitud = accuracy_score(y_test, y_pred)\n",
    "print('Exactitud del modelo: ')\n",
    "print(exactitud)"
   ]
  },
  {
   "cell_type": "code",
   "execution_count": 498,
   "metadata": {},
   "outputs": [
    {
     "name": "stdout",
     "output_type": "stream",
     "text": [
      "Sensibilidad del modelo: \n",
      "0.8998344370860927\n"
     ]
    }
   ],
   "source": [
    "# Calculo la sensibilidad del modelo\n",
    "\n",
    "from sklearn.metrics import recall_score\n",
    "\n",
    "sensibilidad = recall_score(y_test, y_pred, average = \"binary\", pos_label = 'Hay Riesgo')\n",
    "print('Sensibilidad del modelo: ')\n",
    "print(sensibilidad)"
   ]
  },
  {
   "cell_type": "code",
   "execution_count": 499,
   "metadata": {},
   "outputs": [
    {
     "name": "stdout",
     "output_type": "stream",
     "text": [
      "Sensibilidad del modelo: \n",
      "0.9019239793524167\n"
     ]
    }
   ],
   "source": [
    "# Calculo la sensibilidad del modelo\n",
    "\n",
    "from sklearn.metrics import recall_score\n",
    "\n",
    "sensibilidad = recall_score(y_test, y_pred, average = \"binary\", pos_label = 'No hay Riesgo')\n",
    "print('Sensibilidad del modelo: ')\n",
    "print(sensibilidad)"
   ]
  },
  {
   "cell_type": "code",
   "execution_count": 500,
   "metadata": {},
   "outputs": [
    {
     "name": "stdout",
     "output_type": "stream",
     "text": [
      "Puntaje F1 del modelo: \n",
      "0.9060220879349864\n"
     ]
    }
   ],
   "source": [
    "# El puntaje F1 es una combinación entre la precisión y la sensibilidad, para esto importamos\n",
    "# Calculo el puntaje F1 del modelo\n",
    "\n",
    "from sklearn.metrics import f1_score\n",
    "\n",
    "puntajef1 = f1_score(y_test, y_pred, average = \"binary\", pos_label = \"Hay Riesgo\")\n",
    "print('Puntaje F1 del modelo: ')\n",
    "print(puntajef1)"
   ]
  },
  {
   "cell_type": "markdown",
   "metadata": {},
   "source": [
    "**Modelo 2**"
   ]
  },
  {
   "cell_type": "code",
   "execution_count": 517,
   "metadata": {},
   "outputs": [],
   "source": [
    "# Declaramos las variables dependientes e independientes para la regresión logística\n",
    "\n",
    "Vars_Indep = Credicel2[['edad_cliente','score_buro','status','monto_financiado','limite_credito','costo_total','porc_eng']]\n",
    "Var_Dep = Credicel2['riesgo_cat'] # Variable objetivo tipo Dicotómica"
   ]
  },
  {
   "cell_type": "code",
   "execution_count": 518,
   "metadata": {},
   "outputs": [],
   "source": [
    "# Redefinimos las variables\n",
    "X = Vars_Indep\n",
    "y = Var_Dep"
   ]
  },
  {
   "cell_type": "code",
   "execution_count": 519,
   "metadata": {},
   "outputs": [],
   "source": [
    "# Dividimos el conjunto de datos en la parte de entrenamiento y prueba:\n",
    "\n",
    "X_train, X_test, y_train, y_test = train_test_split(X,y, test_size = 0.40, random_state = None)"
   ]
  },
  {
   "cell_type": "code",
   "execution_count": 520,
   "metadata": {},
   "outputs": [],
   "source": [
    "# Se escalan todos los datos (Se están normalizando las escalas)\n",
    "\n",
    "escalar = StandardScaler()"
   ]
  },
  {
   "cell_type": "code",
   "execution_count": 521,
   "metadata": {},
   "outputs": [],
   "source": [
    "# Para realizar el escalamiento de las variables \"X\" tanto de entrenamiento como de prueba,\n",
    "X_train = escalar.fit_transform(X_train)\n",
    "X_test = escalar.transform(X_test)"
   ]
  },
  {
   "cell_type": "code",
   "execution_count": 522,
   "metadata": {},
   "outputs": [
    {
     "data": {
      "text/html": [
       "<style>#sk-container-id-40 {color: black;}#sk-container-id-40 pre{padding: 0;}#sk-container-id-40 div.sk-toggleable {background-color: white;}#sk-container-id-40 label.sk-toggleable__label {cursor: pointer;display: block;width: 100%;margin-bottom: 0;padding: 0.3em;box-sizing: border-box;text-align: center;}#sk-container-id-40 label.sk-toggleable__label-arrow:before {content: \"▸\";float: left;margin-right: 0.25em;color: #696969;}#sk-container-id-40 label.sk-toggleable__label-arrow:hover:before {color: black;}#sk-container-id-40 div.sk-estimator:hover label.sk-toggleable__label-arrow:before {color: black;}#sk-container-id-40 div.sk-toggleable__content {max-height: 0;max-width: 0;overflow: hidden;text-align: left;background-color: #f0f8ff;}#sk-container-id-40 div.sk-toggleable__content pre {margin: 0.2em;color: black;border-radius: 0.25em;background-color: #f0f8ff;}#sk-container-id-40 input.sk-toggleable__control:checked~div.sk-toggleable__content {max-height: 200px;max-width: 100%;overflow: auto;}#sk-container-id-40 input.sk-toggleable__control:checked~label.sk-toggleable__label-arrow:before {content: \"▾\";}#sk-container-id-40 div.sk-estimator input.sk-toggleable__control:checked~label.sk-toggleable__label {background-color: #d4ebff;}#sk-container-id-40 div.sk-label input.sk-toggleable__control:checked~label.sk-toggleable__label {background-color: #d4ebff;}#sk-container-id-40 input.sk-hidden--visually {border: 0;clip: rect(1px 1px 1px 1px);clip: rect(1px, 1px, 1px, 1px);height: 1px;margin: -1px;overflow: hidden;padding: 0;position: absolute;width: 1px;}#sk-container-id-40 div.sk-estimator {font-family: monospace;background-color: #f0f8ff;border: 1px dotted black;border-radius: 0.25em;box-sizing: border-box;margin-bottom: 0.5em;}#sk-container-id-40 div.sk-estimator:hover {background-color: #d4ebff;}#sk-container-id-40 div.sk-parallel-item::after {content: \"\";width: 100%;border-bottom: 1px solid gray;flex-grow: 1;}#sk-container-id-40 div.sk-label:hover label.sk-toggleable__label {background-color: #d4ebff;}#sk-container-id-40 div.sk-serial::before {content: \"\";position: absolute;border-left: 1px solid gray;box-sizing: border-box;top: 0;bottom: 0;left: 50%;z-index: 0;}#sk-container-id-40 div.sk-serial {display: flex;flex-direction: column;align-items: center;background-color: white;padding-right: 0.2em;padding-left: 0.2em;position: relative;}#sk-container-id-40 div.sk-item {position: relative;z-index: 1;}#sk-container-id-40 div.sk-parallel {display: flex;align-items: stretch;justify-content: center;background-color: white;position: relative;}#sk-container-id-40 div.sk-item::before, #sk-container-id-40 div.sk-parallel-item::before {content: \"\";position: absolute;border-left: 1px solid gray;box-sizing: border-box;top: 0;bottom: 0;left: 50%;z-index: -1;}#sk-container-id-40 div.sk-parallel-item {display: flex;flex-direction: column;z-index: 1;position: relative;background-color: white;}#sk-container-id-40 div.sk-parallel-item:first-child::after {align-self: flex-end;width: 50%;}#sk-container-id-40 div.sk-parallel-item:last-child::after {align-self: flex-start;width: 50%;}#sk-container-id-40 div.sk-parallel-item:only-child::after {width: 0;}#sk-container-id-40 div.sk-dashed-wrapped {border: 1px dashed gray;margin: 0 0.4em 0.5em 0.4em;box-sizing: border-box;padding-bottom: 0.4em;background-color: white;}#sk-container-id-40 div.sk-label label {font-family: monospace;font-weight: bold;display: inline-block;line-height: 1.2em;}#sk-container-id-40 div.sk-label-container {text-align: center;}#sk-container-id-40 div.sk-container {/* jupyter's `normalize.less` sets `[hidden] { display: none; }` but bootstrap.min.css set `[hidden] { display: none !important; }` so we also need the `!important` here to be able to override the default hidden behavior on the sphinx rendered scikit-learn.org. See: https://github.com/scikit-learn/scikit-learn/issues/21755 */display: inline-block !important;position: relative;}#sk-container-id-40 div.sk-text-repr-fallback {display: none;}</style><div id=\"sk-container-id-40\" class=\"sk-top-container\"><div class=\"sk-text-repr-fallback\"><pre>LogisticRegression()</pre><b>In a Jupyter environment, please rerun this cell to show the HTML representation or trust the notebook. <br />On GitHub, the HTML representation is unable to render, please try loading this page with nbviewer.org.</b></div><div class=\"sk-container\" hidden><div class=\"sk-item\"><div class=\"sk-estimator sk-toggleable\"><input class=\"sk-toggleable__control sk-hidden--visually\" id=\"sk-estimator-id-40\" type=\"checkbox\" checked><label for=\"sk-estimator-id-40\" class=\"sk-toggleable__label sk-toggleable__label-arrow\">LogisticRegression</label><div class=\"sk-toggleable__content\"><pre>LogisticRegression()</pre></div></div></div></div></div>"
      ],
      "text/plain": [
       "LogisticRegression()"
      ]
     },
     "execution_count": 522,
     "metadata": {},
     "output_type": "execute_result"
    }
   ],
   "source": [
    "algoritmo.fit(X_train, y_train)"
   ]
  },
  {
   "cell_type": "code",
   "execution_count": 523,
   "metadata": {},
   "outputs": [
    {
     "data": {
      "text/plain": [
       "array(['No hay Riesgo', 'Hay Riesgo', 'No hay Riesgo', ...,\n",
       "       'No hay Riesgo', 'No hay Riesgo', 'No hay Riesgo'], dtype=object)"
      ]
     },
     "execution_count": 523,
     "metadata": {},
     "output_type": "execute_result"
    }
   ],
   "source": [
    "# Realizamos una predicción\n",
    "\n",
    "y_pred = algoritmo.predict(X_test)\n",
    "y_pred"
   ]
  },
  {
   "cell_type": "code",
   "execution_count": 524,
   "metadata": {},
   "outputs": [
    {
     "name": "stdout",
     "output_type": "stream",
     "text": [
      "Matriz de confusión: \n",
      "[[4302  513]\n",
      " [ 391 3888]]\n"
     ]
    }
   ],
   "source": [
    "# Verifico la matriz de Confusión\n",
    "\n",
    "from sklearn.metrics import confusion_matrix\n",
    "matriz = confusion_matrix(y_test, y_pred)\n",
    "print('Matriz de confusión: ')\n",
    "print(matriz)"
   ]
  },
  {
   "cell_type": "code",
   "execution_count": 525,
   "metadata": {},
   "outputs": [
    {
     "name": "stdout",
     "output_type": "stream",
     "text": [
      "Precisión del modelo: \n",
      "0.8834355828220859\n"
     ]
    }
   ],
   "source": [
    "# Calculo la precisión del modelo\n",
    "\n",
    "from sklearn.metrics import precision_score\n",
    "\n",
    "precision = precision_score(y_test, y_pred, average = 'binary', pos_label = 'No hay Riesgo')\n",
    "print('Precisión del modelo: ')\n",
    "print(precision)"
   ]
  },
  {
   "cell_type": "code",
   "execution_count": 526,
   "metadata": {},
   "outputs": [
    {
     "name": "stdout",
     "output_type": "stream",
     "text": [
      "Precisión del modelo: \n",
      "0.9166844236096313\n"
     ]
    }
   ],
   "source": [
    "# Calculo la precisión del modelo\n",
    "\n",
    "from sklearn.metrics import precision_score\n",
    "\n",
    "precision = precision_score(y_test, y_pred, average = 'binary', pos_label = 'Hay Riesgo')\n",
    "print('Precisión del modelo: ')\n",
    "print(precision)"
   ]
  },
  {
   "cell_type": "code",
   "execution_count": 527,
   "metadata": {},
   "outputs": [
    {
     "name": "stdout",
     "output_type": "stream",
     "text": [
      "Exactitud del modelo: \n",
      "0.900593798108643\n"
     ]
    }
   ],
   "source": [
    "# Calculo la exactitud del modelo\n",
    "\n",
    "from sklearn.metrics import accuracy_score\n",
    "\n",
    "exactitud = accuracy_score(y_test, y_pred)\n",
    "print('Exactitud del modelo: ')\n",
    "print(exactitud)"
   ]
  },
  {
   "cell_type": "code",
   "execution_count": 528,
   "metadata": {},
   "outputs": [
    {
     "name": "stdout",
     "output_type": "stream",
     "text": [
      "Sensibilidad del modelo: \n",
      "0.8934579439252337\n"
     ]
    }
   ],
   "source": [
    "# Calculo la sensibilidad del modelo\n",
    "\n",
    "from sklearn.metrics import recall_score\n",
    "\n",
    "sensibilidad = recall_score(y_test, y_pred, average = \"binary\", pos_label = 'Hay Riesgo')\n",
    "print('Sensibilidad del modelo: ')\n",
    "print(sensibilidad)"
   ]
  },
  {
   "cell_type": "code",
   "execution_count": 529,
   "metadata": {},
   "outputs": [
    {
     "name": "stdout",
     "output_type": "stream",
     "text": [
      "Sensibilidad del modelo: \n",
      "0.9086235101659266\n"
     ]
    }
   ],
   "source": [
    "# Calculo la sensibilidad del modelo\n",
    "\n",
    "from sklearn.metrics import recall_score\n",
    "\n",
    "sensibilidad = recall_score(y_test, y_pred, average = \"binary\", pos_label = 'No hay Riesgo')\n",
    "print('Sensibilidad del modelo: ')\n",
    "print(sensibilidad)"
   ]
  },
  {
   "cell_type": "code",
   "execution_count": 530,
   "metadata": {},
   "outputs": [
    {
     "name": "stdout",
     "output_type": "stream",
     "text": [
      "Puntaje F1 del modelo: \n",
      "0.9049221708035339\n"
     ]
    }
   ],
   "source": [
    "# El puntaje F1 es una combinación entre la precisión y la sensibilidad, para esto importamos\n",
    "# Calculo el puntaje F1 del modelo\n",
    "\n",
    "from sklearn.metrics import f1_score\n",
    "\n",
    "puntajef1 = f1_score(y_test, y_pred, average = \"binary\", pos_label = \"Hay Riesgo\")\n",
    "print('Puntaje F1 del modelo: ')\n",
    "print(puntajef1)"
   ]
  },
  {
   "cell_type": "markdown",
   "metadata": {},
   "source": [
    "**Modelo 3**"
   ]
  },
  {
   "cell_type": "code",
   "execution_count": 531,
   "metadata": {},
   "outputs": [],
   "source": [
    "# Declaramos las variables dependientes e independientes para la regresión logística\n",
    "\n",
    "Vars_Indep = Credicel2[['edad_cliente','score_buro','monto_financiado','limite_credito','costo_total','porc_eng']]\n",
    "Var_Dep = Credicel2['riesgo_cat'] # Variable objetivo tipo Dicotómica"
   ]
  },
  {
   "cell_type": "code",
   "execution_count": 532,
   "metadata": {},
   "outputs": [],
   "source": [
    "# Redefinimos las variables\n",
    "X = Vars_Indep\n",
    "y = Var_Dep"
   ]
  },
  {
   "cell_type": "code",
   "execution_count": 533,
   "metadata": {},
   "outputs": [],
   "source": [
    "# Dividimos el conjunto de datos en la parte de entrenamiento y prueba:\n",
    "\n",
    "X_train, X_test, y_train, y_test = train_test_split(X,y, test_size = 0.40, random_state = None)"
   ]
  },
  {
   "cell_type": "code",
   "execution_count": 534,
   "metadata": {},
   "outputs": [],
   "source": [
    "# Se escalan todos los datos (Se están normalizando las escalas)\n",
    "\n",
    "escalar = StandardScaler()"
   ]
  },
  {
   "cell_type": "code",
   "execution_count": 535,
   "metadata": {},
   "outputs": [],
   "source": [
    "# Para realizar el escalamiento de las variables \"X\" tanto de entrenamiento como de prueba,\n",
    "X_train = escalar.fit_transform(X_train)\n",
    "X_test = escalar.transform(X_test)"
   ]
  },
  {
   "cell_type": "code",
   "execution_count": 536,
   "metadata": {},
   "outputs": [
    {
     "data": {
      "text/html": [
       "<style>#sk-container-id-41 {color: black;}#sk-container-id-41 pre{padding: 0;}#sk-container-id-41 div.sk-toggleable {background-color: white;}#sk-container-id-41 label.sk-toggleable__label {cursor: pointer;display: block;width: 100%;margin-bottom: 0;padding: 0.3em;box-sizing: border-box;text-align: center;}#sk-container-id-41 label.sk-toggleable__label-arrow:before {content: \"▸\";float: left;margin-right: 0.25em;color: #696969;}#sk-container-id-41 label.sk-toggleable__label-arrow:hover:before {color: black;}#sk-container-id-41 div.sk-estimator:hover label.sk-toggleable__label-arrow:before {color: black;}#sk-container-id-41 div.sk-toggleable__content {max-height: 0;max-width: 0;overflow: hidden;text-align: left;background-color: #f0f8ff;}#sk-container-id-41 div.sk-toggleable__content pre {margin: 0.2em;color: black;border-radius: 0.25em;background-color: #f0f8ff;}#sk-container-id-41 input.sk-toggleable__control:checked~div.sk-toggleable__content {max-height: 200px;max-width: 100%;overflow: auto;}#sk-container-id-41 input.sk-toggleable__control:checked~label.sk-toggleable__label-arrow:before {content: \"▾\";}#sk-container-id-41 div.sk-estimator input.sk-toggleable__control:checked~label.sk-toggleable__label {background-color: #d4ebff;}#sk-container-id-41 div.sk-label input.sk-toggleable__control:checked~label.sk-toggleable__label {background-color: #d4ebff;}#sk-container-id-41 input.sk-hidden--visually {border: 0;clip: rect(1px 1px 1px 1px);clip: rect(1px, 1px, 1px, 1px);height: 1px;margin: -1px;overflow: hidden;padding: 0;position: absolute;width: 1px;}#sk-container-id-41 div.sk-estimator {font-family: monospace;background-color: #f0f8ff;border: 1px dotted black;border-radius: 0.25em;box-sizing: border-box;margin-bottom: 0.5em;}#sk-container-id-41 div.sk-estimator:hover {background-color: #d4ebff;}#sk-container-id-41 div.sk-parallel-item::after {content: \"\";width: 100%;border-bottom: 1px solid gray;flex-grow: 1;}#sk-container-id-41 div.sk-label:hover label.sk-toggleable__label {background-color: #d4ebff;}#sk-container-id-41 div.sk-serial::before {content: \"\";position: absolute;border-left: 1px solid gray;box-sizing: border-box;top: 0;bottom: 0;left: 50%;z-index: 0;}#sk-container-id-41 div.sk-serial {display: flex;flex-direction: column;align-items: center;background-color: white;padding-right: 0.2em;padding-left: 0.2em;position: relative;}#sk-container-id-41 div.sk-item {position: relative;z-index: 1;}#sk-container-id-41 div.sk-parallel {display: flex;align-items: stretch;justify-content: center;background-color: white;position: relative;}#sk-container-id-41 div.sk-item::before, #sk-container-id-41 div.sk-parallel-item::before {content: \"\";position: absolute;border-left: 1px solid gray;box-sizing: border-box;top: 0;bottom: 0;left: 50%;z-index: -1;}#sk-container-id-41 div.sk-parallel-item {display: flex;flex-direction: column;z-index: 1;position: relative;background-color: white;}#sk-container-id-41 div.sk-parallel-item:first-child::after {align-self: flex-end;width: 50%;}#sk-container-id-41 div.sk-parallel-item:last-child::after {align-self: flex-start;width: 50%;}#sk-container-id-41 div.sk-parallel-item:only-child::after {width: 0;}#sk-container-id-41 div.sk-dashed-wrapped {border: 1px dashed gray;margin: 0 0.4em 0.5em 0.4em;box-sizing: border-box;padding-bottom: 0.4em;background-color: white;}#sk-container-id-41 div.sk-label label {font-family: monospace;font-weight: bold;display: inline-block;line-height: 1.2em;}#sk-container-id-41 div.sk-label-container {text-align: center;}#sk-container-id-41 div.sk-container {/* jupyter's `normalize.less` sets `[hidden] { display: none; }` but bootstrap.min.css set `[hidden] { display: none !important; }` so we also need the `!important` here to be able to override the default hidden behavior on the sphinx rendered scikit-learn.org. See: https://github.com/scikit-learn/scikit-learn/issues/21755 */display: inline-block !important;position: relative;}#sk-container-id-41 div.sk-text-repr-fallback {display: none;}</style><div id=\"sk-container-id-41\" class=\"sk-top-container\"><div class=\"sk-text-repr-fallback\"><pre>LogisticRegression()</pre><b>In a Jupyter environment, please rerun this cell to show the HTML representation or trust the notebook. <br />On GitHub, the HTML representation is unable to render, please try loading this page with nbviewer.org.</b></div><div class=\"sk-container\" hidden><div class=\"sk-item\"><div class=\"sk-estimator sk-toggleable\"><input class=\"sk-toggleable__control sk-hidden--visually\" id=\"sk-estimator-id-41\" type=\"checkbox\" checked><label for=\"sk-estimator-id-41\" class=\"sk-toggleable__label sk-toggleable__label-arrow\">LogisticRegression</label><div class=\"sk-toggleable__content\"><pre>LogisticRegression()</pre></div></div></div></div></div>"
      ],
      "text/plain": [
       "LogisticRegression()"
      ]
     },
     "execution_count": 536,
     "metadata": {},
     "output_type": "execute_result"
    }
   ],
   "source": [
    "algoritmo.fit(X_train, y_train)"
   ]
  },
  {
   "cell_type": "code",
   "execution_count": 537,
   "metadata": {},
   "outputs": [
    {
     "data": {
      "text/plain": [
       "array(['No hay Riesgo', 'Hay Riesgo', 'No hay Riesgo', ..., 'Hay Riesgo',\n",
       "       'Hay Riesgo', 'No hay Riesgo'], dtype=object)"
      ]
     },
     "execution_count": 537,
     "metadata": {},
     "output_type": "execute_result"
    }
   ],
   "source": [
    "# Realizamos una predicción\n",
    "\n",
    "y_pred = algoritmo.predict(X_test)\n",
    "y_pred"
   ]
  },
  {
   "cell_type": "code",
   "execution_count": 538,
   "metadata": {},
   "outputs": [
    {
     "name": "stdout",
     "output_type": "stream",
     "text": [
      "Matriz de confusión: \n",
      "[[4309  477]\n",
      " [ 365 3943]]\n"
     ]
    }
   ],
   "source": [
    "# Verifico la matriz de Confusión\n",
    "\n",
    "from sklearn.metrics import confusion_matrix\n",
    "matriz = confusion_matrix(y_test, y_pred)\n",
    "print('Matriz de confusión: ')\n",
    "print(matriz)"
   ]
  },
  {
   "cell_type": "code",
   "execution_count": 539,
   "metadata": {},
   "outputs": [
    {
     "name": "stdout",
     "output_type": "stream",
     "text": [
      "Precisión del modelo: \n",
      "0.892081447963801\n"
     ]
    }
   ],
   "source": [
    "# Calculo la precisión del modelo\n",
    "\n",
    "from sklearn.metrics import precision_score\n",
    "\n",
    "precision = precision_score(y_test, y_pred, average = 'binary', pos_label = 'No hay Riesgo')\n",
    "print('Precisión del modelo: ')\n",
    "print(precision)"
   ]
  },
  {
   "cell_type": "code",
   "execution_count": 540,
   "metadata": {},
   "outputs": [
    {
     "name": "stdout",
     "output_type": "stream",
     "text": [
      "Precisión del modelo: \n",
      "0.9219084296106119\n"
     ]
    }
   ],
   "source": [
    "# Calculo la precisión del modelo\n",
    "\n",
    "from sklearn.metrics import precision_score\n",
    "\n",
    "precision = precision_score(y_test, y_pred, average = 'binary', pos_label = 'Hay Riesgo')\n",
    "print('Precisión del modelo: ')\n",
    "print(precision)"
   ]
  },
  {
   "cell_type": "code",
   "execution_count": 541,
   "metadata": {},
   "outputs": [
    {
     "name": "stdout",
     "output_type": "stream",
     "text": [
      "Exactitud del modelo: \n",
      "0.9074114800967671\n"
     ]
    }
   ],
   "source": [
    "# Calculo la exactitud del modelo\n",
    "\n",
    "from sklearn.metrics import accuracy_score\n",
    "\n",
    "exactitud = accuracy_score(y_test, y_pred)\n",
    "print('Exactitud del modelo: ')\n",
    "print(exactitud)"
   ]
  },
  {
   "cell_type": "code",
   "execution_count": 542,
   "metadata": {},
   "outputs": [
    {
     "name": "stdout",
     "output_type": "stream",
     "text": [
      "Sensibilidad del modelo: \n",
      "0.9003343083994986\n"
     ]
    }
   ],
   "source": [
    "# Calculo la sensibilidad del modelo\n",
    "\n",
    "from sklearn.metrics import recall_score\n",
    "\n",
    "sensibilidad = recall_score(y_test, y_pred, average = \"binary\", pos_label = 'Hay Riesgo')\n",
    "print('Sensibilidad del modelo: ')\n",
    "print(sensibilidad)"
   ]
  },
  {
   "cell_type": "code",
   "execution_count": 546,
   "metadata": {},
   "outputs": [
    {
     "name": "stdout",
     "output_type": "stream",
     "text": [
      "Sensibilidad del modelo: \n",
      "0.9152739090064995\n"
     ]
    }
   ],
   "source": [
    "# Calculo la sensibilidad del modelo\n",
    "\n",
    "from sklearn.metrics import recall_score\n",
    "\n",
    "sensibilidad = recall_score(y_test, y_pred, average = \"binary\", pos_label = 'No hay Riesgo')\n",
    "print('Sensibilidad del modelo: ')\n",
    "print(sensibilidad)"
   ]
  },
  {
   "cell_type": "code",
   "execution_count": 543,
   "metadata": {},
   "outputs": [
    {
     "name": "stdout",
     "output_type": "stream",
     "text": [
      "Puntaje F1 del modelo: \n",
      "0.9109936575052854\n"
     ]
    }
   ],
   "source": [
    "# El puntaje F1 es una combinación entre la precisión y la sensibilidad, para esto importamos\n",
    "# Calculo el puntaje F1 del modelo\n",
    "\n",
    "from sklearn.metrics import f1_score\n",
    "\n",
    "puntajef1 = f1_score(y_test, y_pred, average = \"binary\", pos_label = \"Hay Riesgo\")\n",
    "print('Puntaje F1 del modelo: ')\n",
    "print(puntajef1)"
   ]
  },
  {
   "cell_type": "code",
   "execution_count": 544,
   "metadata": {},
   "outputs": [
    {
     "data": {
      "text/plain": [
       "array(['Hay Riesgo', 'No hay Riesgo'], dtype=object)"
      ]
     },
     "execution_count": 544,
     "metadata": {},
     "output_type": "execute_result"
    }
   ],
   "source": [
    "# Verificar los valores sin repetirse de una columna\n",
    "\n",
    "unico = np.unique(Credicel2['riesgo_cat'])\n",
    "unico"
   ]
  },
  {
   "cell_type": "code",
   "execution_count": 545,
   "metadata": {},
   "outputs": [
    {
     "data": {
      "text/plain": [
       "riesgo_cat\n",
       "No hay Riesgo    16244\n",
       "Hay Riesgo        6491\n",
       "Name: count, dtype: int64"
      ]
     },
     "execution_count": 545,
     "metadata": {},
     "output_type": "execute_result"
    }
   ],
   "source": [
    "frecuencia = Credicel[\"riesgo_cat\"].value_counts()\n",
    "\n",
    "frecuencia"
   ]
  }
 ],
 "metadata": {
  "kernelspec": {
   "display_name": "Python 3",
   "language": "python",
   "name": "python3"
  },
  "language_info": {
   "codemirror_mode": {
    "name": "ipython",
    "version": 3
   },
   "file_extension": ".py",
   "mimetype": "text/x-python",
   "name": "python",
   "nbconvert_exporter": "python",
   "pygments_lexer": "ipython3",
   "version": "3.11.4"
  }
 },
 "nbformat": 4,
 "nbformat_minor": 2
}
